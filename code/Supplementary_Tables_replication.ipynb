{
 "cells": [
  {
   "cell_type": "markdown",
   "id": "32c8369d",
   "metadata": {},
   "source": [
    "# Correcting for multiple comparisons"
   ]
  },
  {
   "cell_type": "markdown",
   "id": "33c62f0b",
   "metadata": {},
   "source": [
    "## Get proportion of significant tracts after correcting for multiple comparisons:\n",
    "Using FDR.\n"
   ]
  },
  {
   "cell_type": "code",
   "execution_count": 1,
   "id": "8e2974ec",
   "metadata": {},
   "outputs": [],
   "source": [
    "import pandas as pd\n",
    "import numpy as np\n",
    "from statsmodels.stats.multitest import multipletests as correct_multi"
   ]
  },
  {
   "cell_type": "code",
   "execution_count": 2,
   "id": "02b46caf",
   "metadata": {},
   "outputs": [],
   "source": [
    "indir = \"/cbica/projects/csdsi/cleaned_paper_analysis/bug_fix/data/dice_scores/permutation_stats/\"\n",
    "indir_save = \"/cbica/projects/csdsi/replication/data/dice_scores/permutation_stats/\"\n",
    "cs_acqs = [\"HA-SC92+55-1\", \"HA-SC92+55-2\",  \"HA-SC92\", \"HA-SC55-1\",  \"HA-SC55-2\", \"RAND57\"]\n",
    "mtrk = \"all_tracks\"\n",
    "trks = [\"Arcuate_Fasciculus_L\", \"Arcuate_Fasciculus_R\", \"Cingulum_Frontal_Parahippocampal_L\", \"Cingulum_Frontal_Parahippocampal_R\", \"Cingulum_Frontal_Parietal_L\", \"Cingulum_Frontal_Parietal_R\", \"Cingulum_Parahippocampal_L\", \"Cingulum_Parahippocampal_Parietal_L\", \"Cingulum_Parahippocampal_Parietal_R\", \"Cingulum_Parahippocampal_R\", \"Cingulum_Parolfactory_L\", \"Cingulum_Parolfactory_R\", \"Corpus_Callosum_Body\", \"Corpus_Callosum_Forceps_Major\", \"Corpus_Callosum_Forceps_Minor\", \"Corpus_Callosum_Tapetum\", \"Corticospinal_Tract_L\", \"Corticospinal_Tract_R\", \"Corticostriatal_Tract_Anterior_L\", \"Corticostriatal_Tract_Anterior_R\", \"Corticostriatal_Tract_Posterior_L\", \"Corticostriatal_Tract_Posterior_R\", \"Corticostriatal_Tract_Superior_L\", \"Corticostriatal_Tract_Superior_R\", \"Fornix_L\", \"Fornix_R\", \"Frontal_Aslant_Tract_L\", \"Frontal_Aslant_Tract_R\", \"Inferior_Fronto_Occipital_Fasciculus_L\", \"Inferior_Fronto_Occipital_Fasciculus_R\", \"Inferior_Longitudinal_Fasciculus_L\", \"Inferior_Longitudinal_Fasciculus_R\", \"Middle_Longitudinal_Fasciculus_L\", \"Middle_Longitudinal_Fasciculus_R\", \"Optic_Radiation_L\", \"Optic_Radiation_R\", \"Parietal_Aslant_Tract_L\", \"Parietal_Aslant_Tract_R\", \"Reticular_Tract_L\", \"Reticular_Tract_R\", \"Superior_Longitudinal_Fasciculus1_L\", \"Superior_Longitudinal_Fasciculus1_R\", \"Superior_Longitudinal_Fasciculus2_L\", \"Superior_Longitudinal_Fasciculus2_R\", \"Superior_Longitudinal_Fasciculus3_L\", \"Superior_Longitudinal_Fasciculus3_R\", \"Thalamic_Radiation_Anterior_L\", \"Thalamic_Radiation_Anterior_R\", \"Thalamic_Radiation_Posterior_L\", \"Thalamic_Radiation_Posterior_R\", \"Thalamic_Radiation_Superior_L\", \"Thalamic_Radiation_Superior_R\", \"Uncinate_Fasciculus_L\", \"Uncinate_Fasciculus_R\", \"Vertical_Occipital_Fasciculus_L\", \"Vertical_Occipital_Fasciculus_R\"]\n",
    "\n",
    "def correct_multiple_comparisons(grp, method=\"fdr_bh\"):\n",
    "    stats_df = pd.read_csv(indir+grp+\"/\"+mtrk+\"/subject_medians_all_stats.csv\")\n",
    "    alltrk_p_df = pd.DataFrame(index=cs_acqs)\n",
    "\n",
    "    for acq in cs_acqs:\n",
    "        acq_med = stats_df[stats_df[\"Acquisition\"]==acq][\"Subject Median\"].median()\n",
    "        alltrk_p_df.loc[acq, \"Median Median Difference\"] = round(acq_med, 3)\n",
    "\n",
    "        # Get p-value props:\n",
    "        p_values_raw = np.array(stats_df[stats_df[\"Acquisition\"]==acq][\"p-value\"].astype(float))\n",
    "        _, p_values, _, _ = correct_multi(np.array(p_values_raw), method=method)\n",
    "\n",
    "        alltrk_p_df.loc[acq, \"n(p < 0.05) [corrected]\"] = np.count_nonzero([p_values < 0.05]) \n",
    "    # hamsi's:\n",
    "    # alltrk_p_df.to_csv(indir+grp+\"/\"+mtrk+\"/tracks_summary_proportionandmax_multcorrected_\"+method+\"_v2.csv\")\n",
    "    # replication:\n",
    "    if not os.path.exists(indir_save+grp+\"/\"+mtrk):\n",
    "        os.makedirs(indir_save+grp+\"/\"+mtrk, exist_ok=True)\n",
    "    alltrk_p_df.to_csv(indir_save+grp+\"/\"+mtrk+\"/tracks_summary_proportionandmax_multcorrected_\"+method+\"_v2.csv\")\n",
    "    return alltrk_p_df\n",
    "\n",
    "def get_raw_p_values(grp):\n",
    "    p_df = pd.read_csv(indir+grp+\"/\"+mtrk+\"/tracks_summary_proportionandmax_v2.csv\")\n",
    "    return p_df"
   ]
  },
  {
   "cell_type": "code",
   "execution_count": null,
   "id": "e012a768",
   "metadata": {},
   "outputs": [],
   "source": [
    "# added by CZ for sanity checks:\n",
    "grp = \"retro_wthn_acc\"\n",
    "stats_df = pd.read_csv(indir+grp+\"/\"+mtrk+\"/subject_medians_all_stats.csv\")\n",
    "# stats_df.tail()\n",
    "# stats_df.shape"
   ]
  },
  {
   "cell_type": "markdown",
   "id": "7cceb19c",
   "metadata": {},
   "source": [
    "### Retrospective within accuracy\n",
    "Supplementary Table 2"
   ]
  },
  {
   "cell_type": "code",
   "execution_count": 3,
   "id": "4b8aaaa1",
   "metadata": {},
   "outputs": [
    {
     "data": {
      "text/html": [
       "<div>\n",
       "<style scoped>\n",
       "    .dataframe tbody tr th:only-of-type {\n",
       "        vertical-align: middle;\n",
       "    }\n",
       "\n",
       "    .dataframe tbody tr th {\n",
       "        vertical-align: top;\n",
       "    }\n",
       "\n",
       "    .dataframe thead th {\n",
       "        text-align: right;\n",
       "    }\n",
       "</style>\n",
       "<table border=\"1\" class=\"dataframe\">\n",
       "  <thead>\n",
       "    <tr style=\"text-align: right;\">\n",
       "      <th></th>\n",
       "      <th>Median Median Difference</th>\n",
       "      <th>n(p &lt; 0.05) [corrected]</th>\n",
       "    </tr>\n",
       "  </thead>\n",
       "  <tbody>\n",
       "    <tr>\n",
       "      <th>HA-SC92+55-1</th>\n",
       "      <td>-0.013</td>\n",
       "      <td>6.0</td>\n",
       "    </tr>\n",
       "    <tr>\n",
       "      <th>HA-SC92+55-2</th>\n",
       "      <td>-0.017</td>\n",
       "      <td>6.0</td>\n",
       "    </tr>\n",
       "    <tr>\n",
       "      <th>HA-SC92</th>\n",
       "      <td>0.002</td>\n",
       "      <td>0.0</td>\n",
       "    </tr>\n",
       "    <tr>\n",
       "      <th>HA-SC55-1</th>\n",
       "      <td>0.039</td>\n",
       "      <td>54.0</td>\n",
       "    </tr>\n",
       "    <tr>\n",
       "      <th>HA-SC55-2</th>\n",
       "      <td>0.058</td>\n",
       "      <td>56.0</td>\n",
       "    </tr>\n",
       "    <tr>\n",
       "      <th>RAND57</th>\n",
       "      <td>0.074</td>\n",
       "      <td>56.0</td>\n",
       "    </tr>\n",
       "  </tbody>\n",
       "</table>\n",
       "</div>"
      ],
      "text/plain": [
       "              Median Median Difference  n(p < 0.05) [corrected]\n",
       "HA-SC92+55-1                    -0.013                      6.0\n",
       "HA-SC92+55-2                    -0.017                      6.0\n",
       "HA-SC92                          0.002                      0.0\n",
       "HA-SC55-1                        0.039                     54.0\n",
       "HA-SC55-2                        0.058                     56.0\n",
       "RAND57                           0.074                     56.0"
      ]
     },
     "execution_count": 3,
     "metadata": {},
     "output_type": "execute_result"
    }
   ],
   "source": [
    "correct_multiple_comparisons(\"retro_wthn_acc\") "
   ]
  },
  {
   "cell_type": "markdown",
   "id": "35c933cb",
   "metadata": {},
   "source": [
    "### Retrospective between accuracy\n",
    "Supplementary Table 3"
   ]
  },
  {
   "cell_type": "code",
   "execution_count": 4,
   "id": "f46341a9",
   "metadata": {},
   "outputs": [
    {
     "data": {
      "text/html": [
       "<div>\n",
       "<style scoped>\n",
       "    .dataframe tbody tr th:only-of-type {\n",
       "        vertical-align: middle;\n",
       "    }\n",
       "\n",
       "    .dataframe tbody tr th {\n",
       "        vertical-align: top;\n",
       "    }\n",
       "\n",
       "    .dataframe thead th {\n",
       "        text-align: right;\n",
       "    }\n",
       "</style>\n",
       "<table border=\"1\" class=\"dataframe\">\n",
       "  <thead>\n",
       "    <tr style=\"text-align: right;\">\n",
       "      <th></th>\n",
       "      <th>Median Median Difference</th>\n",
       "      <th>n(p &lt; 0.05) [corrected]</th>\n",
       "    </tr>\n",
       "  </thead>\n",
       "  <tbody>\n",
       "    <tr>\n",
       "      <th>HA-SC92+55-1</th>\n",
       "      <td>0.024</td>\n",
       "      <td>56.0</td>\n",
       "    </tr>\n",
       "    <tr>\n",
       "      <th>HA-SC92+55-2</th>\n",
       "      <td>0.022</td>\n",
       "      <td>56.0</td>\n",
       "    </tr>\n",
       "    <tr>\n",
       "      <th>HA-SC92</th>\n",
       "      <td>0.034</td>\n",
       "      <td>56.0</td>\n",
       "    </tr>\n",
       "    <tr>\n",
       "      <th>HA-SC55-1</th>\n",
       "      <td>0.060</td>\n",
       "      <td>56.0</td>\n",
       "    </tr>\n",
       "    <tr>\n",
       "      <th>HA-SC55-2</th>\n",
       "      <td>0.074</td>\n",
       "      <td>56.0</td>\n",
       "    </tr>\n",
       "    <tr>\n",
       "      <th>RAND57</th>\n",
       "      <td>0.089</td>\n",
       "      <td>56.0</td>\n",
       "    </tr>\n",
       "  </tbody>\n",
       "</table>\n",
       "</div>"
      ],
      "text/plain": [
       "              Median Median Difference  n(p < 0.05) [corrected]\n",
       "HA-SC92+55-1                     0.024                     56.0\n",
       "HA-SC92+55-2                     0.022                     56.0\n",
       "HA-SC92                          0.034                     56.0\n",
       "HA-SC55-1                        0.060                     56.0\n",
       "HA-SC55-2                        0.074                     56.0\n",
       "RAND57                           0.089                     56.0"
      ]
     },
     "execution_count": 4,
     "metadata": {},
     "output_type": "execute_result"
    }
   ],
   "source": [
    "correct_multiple_comparisons(\"retro_btwn_acc_unpaired\")"
   ]
  },
  {
   "cell_type": "markdown",
   "id": "64f3e665",
   "metadata": {},
   "source": [
    "### Retrospective between reliability\n",
    "Supplementary Table 4"
   ]
  },
  {
   "cell_type": "code",
   "execution_count": 5,
   "id": "54d10a11",
   "metadata": {},
   "outputs": [
    {
     "data": {
      "text/html": [
       "<div>\n",
       "<style scoped>\n",
       "    .dataframe tbody tr th:only-of-type {\n",
       "        vertical-align: middle;\n",
       "    }\n",
       "\n",
       "    .dataframe tbody tr th {\n",
       "        vertical-align: top;\n",
       "    }\n",
       "\n",
       "    .dataframe thead th {\n",
       "        text-align: right;\n",
       "    }\n",
       "</style>\n",
       "<table border=\"1\" class=\"dataframe\">\n",
       "  <thead>\n",
       "    <tr style=\"text-align: right;\">\n",
       "      <th></th>\n",
       "      <th>Median Median Difference</th>\n",
       "      <th>n(p &lt; 0.05) [corrected]</th>\n",
       "    </tr>\n",
       "  </thead>\n",
       "  <tbody>\n",
       "    <tr>\n",
       "      <th>HA-SC92+55-1</th>\n",
       "      <td>0.008</td>\n",
       "      <td>0.0</td>\n",
       "    </tr>\n",
       "    <tr>\n",
       "      <th>HA-SC92+55-2</th>\n",
       "      <td>0.009</td>\n",
       "      <td>0.0</td>\n",
       "    </tr>\n",
       "    <tr>\n",
       "      <th>HA-SC92</th>\n",
       "      <td>0.018</td>\n",
       "      <td>0.0</td>\n",
       "    </tr>\n",
       "    <tr>\n",
       "      <th>HA-SC55-1</th>\n",
       "      <td>0.038</td>\n",
       "      <td>0.0</td>\n",
       "    </tr>\n",
       "    <tr>\n",
       "      <th>HA-SC55-2</th>\n",
       "      <td>0.039</td>\n",
       "      <td>0.0</td>\n",
       "    </tr>\n",
       "    <tr>\n",
       "      <th>RAND57</th>\n",
       "      <td>0.063</td>\n",
       "      <td>0.0</td>\n",
       "    </tr>\n",
       "  </tbody>\n",
       "</table>\n",
       "</div>"
      ],
      "text/plain": [
       "              Median Median Difference  n(p < 0.05) [corrected]\n",
       "HA-SC92+55-1                     0.008                      0.0\n",
       "HA-SC92+55-2                     0.009                      0.0\n",
       "HA-SC92                          0.018                      0.0\n",
       "HA-SC55-1                        0.038                      0.0\n",
       "HA-SC55-2                        0.039                      0.0\n",
       "RAND57                           0.063                      0.0"
      ]
     },
     "execution_count": 5,
     "metadata": {},
     "output_type": "execute_result"
    }
   ],
   "source": [
    "correct_multiple_comparisons(\"retro_btwn_rel\")"
   ]
  },
  {
   "cell_type": "markdown",
   "id": "09e78f27",
   "metadata": {},
   "source": [
    "## Same thing for scalars:"
   ]
  },
  {
   "cell_type": "code",
   "execution_count": null,
   "id": "41805e8d",
   "metadata": {},
   "outputs": [],
   "source": [
    "indir = \"/cbica/projects/csdsi/cleaned_paper_analysis/bug_fix/data/pearson_correlations/permutation_stats/\"\n",
    "cs_acqs = [\"HA-SC92+55-1\", \"HA-SC92+55-2\",  \"HA-SC92\", \"HA-SC55-1\",  \"HA-SC55-2\", \"RAND57\"]\n",
    "metrics = [\"nqa\", \"gfa\", \"iso\"]\n",
    "def make_all_scalar_df(grp):\n",
    "    p_df = pd.DataFrame(columns=cs_acqs, index=metrics)\n",
    "    med_df = pd.DataFrame(columns=cs_acqs, index=metrics)\n",
    "    for met in metrics:\n",
    "        stats_df = pd.read_csv(indir+grp+\"/\"+met+\"_mask/subject_medians_all_stats.csv\")\n",
    "        stats_df = stats_df.set_index(\"Acquisition\")\n",
    "        for acq in cs_acqs:\n",
    "            p_df.loc[met, acq] = stats_df.loc[acq, \"p-value\"]\n",
    "            med_df.loc[met, acq] = stats_df.loc[acq, \"Subject Median\"]\n",
    "    return p_df, med_df\n",
    "\n",
    "\n",
    "def correct_multiple_comparisons(grp, method=\"fdr_bh\"):\n",
    "    p_df, med_df = make_all_scalar_df(grp)\n",
    "    p_df_corr = pd.DataFrame(columns=cs_acqs, index=metrics)\n",
    "    for acq in cs_acqs:\n",
    "        # Get p-value props:\n",
    "        p_values_raw = p_df[acq]\n",
    "        _, p_values, _, _ = correct_multi(np.array(p_values_raw), method=method)\n",
    "        p_df_corr[acq] = p_values\n",
    "    \n",
    "    for met in metrics:\n",
    "        stats_df = pd.DataFrame(index=cs_acqs)\n",
    "        for acq in cs_acqs:\n",
    "            stats_df.loc[acq, \"Median Difference\"] = round(med_df.loc[met, acq], 3)\n",
    "            stats_df.loc[acq, \"p-value\"] = round(p_df_corr.loc[met, acq], 3)\n",
    "        \n",
    "        # ++++++++++++++++++++++++++++\n",
    "        # replication TODO: change the indir to indir_save, rerun this block, before doing anything else!!!\n",
    "        # ++++++++++++++++++++++++++++\n",
    "\n",
    "        stats_df.to_csv(indir+grp+\"/\"+met+\"_mask/statssummary_multcorrected_\"+method+\".csv\")\n",
    "        print(met)\n",
    "        print(stats_df)\n",
    "        print(\"\\n\")"
   ]
  },
  {
   "cell_type": "code",
   "execution_count": null,
   "id": "6ab19047",
   "metadata": {},
   "outputs": [],
   "source": [
    "correct_multiple_comparisons(\"retro_wthn_acc\") #Supplementary Table 5"
   ]
  },
  {
   "cell_type": "code",
   "execution_count": null,
   "id": "fd6a3ee1",
   "metadata": {},
   "outputs": [],
   "source": [
    "correct_multiple_comparisons(\"retro_btwn_acc_unpaired\") #Supplementary Table 6"
   ]
  },
  {
   "cell_type": "code",
   "execution_count": null,
   "id": "80c511e8",
   "metadata": {},
   "outputs": [],
   "source": [
    "correct_multiple_comparisons(\"retro_btwn_rel\") #Supplementary Table 7"
   ]
  }
 ],
 "metadata": {
  "kernelspec": {
   "display_name": "Python 3 (ipykernel)",
   "language": "python",
   "name": "python3"
  },
  "language_info": {
   "codemirror_mode": {
    "name": "ipython",
    "version": 3
   },
   "file_extension": ".py",
   "mimetype": "text/x-python",
   "name": "python",
   "nbconvert_exporter": "python",
   "pygments_lexer": "ipython3",
   "version": "3.7.11"
  }
 },
 "nbformat": 4,
 "nbformat_minor": 5
}
