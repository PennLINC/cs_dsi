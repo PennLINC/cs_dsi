{
 "cells": [
  {
   "cell_type": "code",
   "execution_count": 12,
   "id": "0667bad5",
   "metadata": {},
   "outputs": [],
   "source": [
    "import pandas as pd\n",
    "import numpy as np\n",
    "import plotnine as pn\n",
    "from scipy import stats\n"
   ]
  },
  {
   "cell_type": "code",
   "execution_count": 31,
   "id": "27072965",
   "metadata": {},
   "outputs": [],
   "source": [
    "indir = \"/cbica/projects/csdsi/cleaned_paper_analysis/data/dice_scores/permutation_stats/\"\n",
    "groups = [\"retro_wthn_acc\", \"retro_btwn_acc\", \"retro_btwn_rel\"]\n",
    "cs_acqs = [\"HA-SC92+55-1\", \"HA-SC92+55-2\",  \"HA-SC92\", \"HA-SC55-1\",  \"HA-SC55-2\", \"RAND57\"]\n",
    "cs_acqs = [\"HASC92-55_run-01\", \"HASC92-55_run-02\",  \"HASC92\", \"HASC55_run-01\",  \"HASC55_run-02\", \"RAND57\"]\n",
    "\n",
    "scan_times = [11.9, 11.8, 7.4, 4.5, 4.3, 5.4]\n",
    "scan_df = pd.DataFrame(index = cs_acqs)\n",
    "scan_df[\"Time\"] = scan_times\n",
    "for grp in groups:\n",
    "    stats_df = pd.read_csv(\"/cbica/projects/csdsi/cleaned_paper_analysis/data/dice_scores/\"+grp+\"/all_tracks_medians.csv\")\n",
    "    for acq in cs_acqs:\n",
    "        acq_med = stats_df[acq].median()\n",
    "        scan_df.loc[acq, grp] = acq_med"
   ]
  },
  {
   "cell_type": "code",
   "execution_count": 32,
   "id": "0b868411",
   "metadata": {},
   "outputs": [
    {
     "data": {
      "text/html": [
       "<div>\n",
       "<style scoped>\n",
       "    .dataframe tbody tr th:only-of-type {\n",
       "        vertical-align: middle;\n",
       "    }\n",
       "\n",
       "    .dataframe tbody tr th {\n",
       "        vertical-align: top;\n",
       "    }\n",
       "\n",
       "    .dataframe thead th {\n",
       "        text-align: right;\n",
       "    }\n",
       "</style>\n",
       "<table border=\"1\" class=\"dataframe\">\n",
       "  <thead>\n",
       "    <tr style=\"text-align: right;\">\n",
       "      <th></th>\n",
       "      <th>Time</th>\n",
       "      <th>retro_wthn_acc</th>\n",
       "      <th>retro_btwn_acc</th>\n",
       "      <th>retro_btwn_rel</th>\n",
       "    </tr>\n",
       "  </thead>\n",
       "  <tbody>\n",
       "    <tr>\n",
       "      <th>HASC92-55_run-01</th>\n",
       "      <td>11.9</td>\n",
       "      <td>0.815870</td>\n",
       "      <td>0.774298</td>\n",
       "      <td>0.787894</td>\n",
       "    </tr>\n",
       "    <tr>\n",
       "      <th>HASC92-55_run-02</th>\n",
       "      <td>11.8</td>\n",
       "      <td>0.817301</td>\n",
       "      <td>0.776683</td>\n",
       "      <td>0.787018</td>\n",
       "    </tr>\n",
       "    <tr>\n",
       "      <th>HASC92</th>\n",
       "      <td>7.4</td>\n",
       "      <td>0.798090</td>\n",
       "      <td>0.765222</td>\n",
       "      <td>0.777215</td>\n",
       "    </tr>\n",
       "    <tr>\n",
       "      <th>HASC55_run-01</th>\n",
       "      <td>4.5</td>\n",
       "      <td>0.755071</td>\n",
       "      <td>0.734255</td>\n",
       "      <td>0.755172</td>\n",
       "    </tr>\n",
       "    <tr>\n",
       "      <th>HASC55_run-02</th>\n",
       "      <td>4.3</td>\n",
       "      <td>0.741338</td>\n",
       "      <td>0.723267</td>\n",
       "      <td>0.759380</td>\n",
       "    </tr>\n",
       "    <tr>\n",
       "      <th>RAND57</th>\n",
       "      <td>5.4</td>\n",
       "      <td>0.722689</td>\n",
       "      <td>0.707508</td>\n",
       "      <td>0.730788</td>\n",
       "    </tr>\n",
       "  </tbody>\n",
       "</table>\n",
       "</div>"
      ],
      "text/plain": [
       "                  Time  retro_wthn_acc  retro_btwn_acc  retro_btwn_rel\n",
       "HASC92-55_run-01  11.9        0.815870        0.774298        0.787894\n",
       "HASC92-55_run-02  11.8        0.817301        0.776683        0.787018\n",
       "HASC92             7.4        0.798090        0.765222        0.777215\n",
       "HASC55_run-01      4.5        0.755071        0.734255        0.755172\n",
       "HASC55_run-02      4.3        0.741338        0.723267        0.759380\n",
       "RAND57             5.4        0.722689        0.707508        0.730788"
      ]
     },
     "execution_count": 32,
     "metadata": {},
     "output_type": "execute_result"
    }
   ],
   "source": [
    "scan_df"
   ]
  },
  {
   "cell_type": "code",
   "execution_count": 33,
   "id": "06efeada",
   "metadata": {},
   "outputs": [],
   "source": [
    "# def get_stats_and_linregress(scan_df):\n",
    "# Get line of best fit:\n",
    "fit_df = pd.DataFrame()\n",
    "r_df = pd.DataFrame(index = groups, columns = [\"Rsq\", \"Slope\", \"p-value\"]) \n",
    "fit_df[\"Time\"] = scan_df[\"Time\"]\n",
    "for grp in groups:\n",
    "    s, i, r, p, std = stats.linregress(scan_df[\"Time\"].astype(float), scan_df[grp].astype(float))\n",
    "    fit_df[grp] = scan_df[\"Time\"]*s + i\n",
    "    fit_df[\"raw_\"+grp] = scan_df[grp]\n",
    "    r_df.loc[acq, \"Rsq\"] = r**2\n",
    "    r_df.loc[acq, \"Slope\"] = s\n",
    "    r_df.loc[acq, \"p-value\"] = p\n",
    "#     r_df.to_csv(\"/cbica/projects/csdsi/cleaned_paper_analysis/data/dice_scores/\"+grp+\"/\"+mtrk+\"_median_tracks_slopes_with_reliability.csv\")\n",
    "#     return fit_df"
   ]
  },
  {
   "cell_type": "code",
   "execution_count": 34,
   "id": "3e5576c4",
   "metadata": {},
   "outputs": [
    {
     "data": {
      "text/html": [
       "<div>\n",
       "<style scoped>\n",
       "    .dataframe tbody tr th:only-of-type {\n",
       "        vertical-align: middle;\n",
       "    }\n",
       "\n",
       "    .dataframe tbody tr th {\n",
       "        vertical-align: top;\n",
       "    }\n",
       "\n",
       "    .dataframe thead th {\n",
       "        text-align: right;\n",
       "    }\n",
       "</style>\n",
       "<table border=\"1\" class=\"dataframe\">\n",
       "  <thead>\n",
       "    <tr style=\"text-align: right;\">\n",
       "      <th></th>\n",
       "      <th>Time</th>\n",
       "      <th>retro_wthn_acc</th>\n",
       "      <th>raw_retro_wthn_acc</th>\n",
       "      <th>retro_btwn_acc</th>\n",
       "      <th>raw_retro_btwn_acc</th>\n",
       "      <th>retro_btwn_rel</th>\n",
       "      <th>raw_retro_btwn_rel</th>\n",
       "    </tr>\n",
       "  </thead>\n",
       "  <tbody>\n",
       "    <tr>\n",
       "      <th>HASC92-55_run-01</th>\n",
       "      <td>11.9</td>\n",
       "      <td>0.820102</td>\n",
       "      <td>0.815870</td>\n",
       "      <td>0.778214</td>\n",
       "      <td>0.774298</td>\n",
       "      <td>0.788394</td>\n",
       "      <td>0.787894</td>\n",
       "    </tr>\n",
       "    <tr>\n",
       "      <th>HASC92-55_run-02</th>\n",
       "      <td>11.8</td>\n",
       "      <td>0.819067</td>\n",
       "      <td>0.817301</td>\n",
       "      <td>0.777494</td>\n",
       "      <td>0.776683</td>\n",
       "      <td>0.787885</td>\n",
       "      <td>0.787018</td>\n",
       "    </tr>\n",
       "    <tr>\n",
       "      <th>HASC92</th>\n",
       "      <td>7.4</td>\n",
       "      <td>0.773507</td>\n",
       "      <td>0.798090</td>\n",
       "      <td>0.745791</td>\n",
       "      <td>0.765222</td>\n",
       "      <td>0.765481</td>\n",
       "      <td>0.777215</td>\n",
       "    </tr>\n",
       "    <tr>\n",
       "      <th>HASC55_run-01</th>\n",
       "      <td>4.5</td>\n",
       "      <td>0.743479</td>\n",
       "      <td>0.755071</td>\n",
       "      <td>0.724896</td>\n",
       "      <td>0.734255</td>\n",
       "      <td>0.750714</td>\n",
       "      <td>0.755172</td>\n",
       "    </tr>\n",
       "    <tr>\n",
       "      <th>HASC55_run-02</th>\n",
       "      <td>4.3</td>\n",
       "      <td>0.741408</td>\n",
       "      <td>0.741338</td>\n",
       "      <td>0.723455</td>\n",
       "      <td>0.723267</td>\n",
       "      <td>0.749696</td>\n",
       "      <td>0.759380</td>\n",
       "    </tr>\n",
       "    <tr>\n",
       "      <th>RAND57</th>\n",
       "      <td>5.4</td>\n",
       "      <td>0.752798</td>\n",
       "      <td>0.722689</td>\n",
       "      <td>0.731381</td>\n",
       "      <td>0.707508</td>\n",
       "      <td>0.755297</td>\n",
       "      <td>0.730788</td>\n",
       "    </tr>\n",
       "  </tbody>\n",
       "</table>\n",
       "</div>"
      ],
      "text/plain": [
       "                  Time  retro_wthn_acc  raw_retro_wthn_acc  retro_btwn_acc  \\\n",
       "HASC92-55_run-01  11.9        0.820102            0.815870        0.778214   \n",
       "HASC92-55_run-02  11.8        0.819067            0.817301        0.777494   \n",
       "HASC92             7.4        0.773507            0.798090        0.745791   \n",
       "HASC55_run-01      4.5        0.743479            0.755071        0.724896   \n",
       "HASC55_run-02      4.3        0.741408            0.741338        0.723455   \n",
       "RAND57             5.4        0.752798            0.722689        0.731381   \n",
       "\n",
       "                  raw_retro_btwn_acc  retro_btwn_rel  raw_retro_btwn_rel  \n",
       "HASC92-55_run-01            0.774298        0.788394            0.787894  \n",
       "HASC92-55_run-02            0.776683        0.787885            0.787018  \n",
       "HASC92                      0.765222        0.765481            0.777215  \n",
       "HASC55_run-01               0.734255        0.750714            0.755172  \n",
       "HASC55_run-02               0.723267        0.749696            0.759380  \n",
       "RAND57                      0.707508        0.755297            0.730788  "
      ]
     },
     "execution_count": 34,
     "metadata": {},
     "output_type": "execute_result"
    }
   ],
   "source": [
    "fit_df"
   ]
  },
  {
   "cell_type": "code",
   "execution_count": 35,
   "id": "90053366",
   "metadata": {},
   "outputs": [],
   "source": [
    "palette_col = [\"#7781a6\", \"#477998\", \"#298e91\", \"#d24b4e\", \"#dd6d40\", \"#ffbf1f\"]\n",
    "thme = pn.theme_bw() + pn.theme(plot_title = pn.element_text(face=\"bold\", size=16), \\\n",
    "            axis_title = pn.element_text(face=\"bold\", size=14), \\\n",
    "            axis_text_x=pn.element_text(hjust=1, size=12, color=\"black\"), \\\n",
    "            axis_text_y=pn.element_text(size=12, color=\"black\"), \\\n",
    "            axis_ticks = pn.element_line(size = 0.2), \\\n",
    "            panel_border = pn.element_rect(fill = \"white\", colour=\"black\"), \\\n",
    "            panel_grid_major = pn.element_blank(), \\\n",
    "            panel_grid_minor = pn.element_blank())\n",
    "fit_df[\"Acquisition\"] = cs_acqs\n",
    "cat = pd.Categorical(fit_df[\"Acquisition\"], categories = cs_acqs)\n",
    "pm = pn.ggplot(data=fit_df, mapping=pn.aes(x='Time', y='raw_retro_wthn_acc', color=cat)) \\\n",
    "                + pn.scale_color_manual(values=palette_col) \\\n",
    "                + pn.geom_point() \\\n",
    "                + thme\n"
   ]
  },
  {
   "cell_type": "code",
   "execution_count": 36,
   "id": "8b0dbc9b",
   "metadata": {},
   "outputs": [
    {
     "data": {
      "image/png": "[encoded data removed]",
      "text/plain": [
       "<Figure size 640x480 with 1 Axes>"
      ]
     },
     "metadata": {},
     "output_type": "display_data"
    },
    {
     "name": "stdout",
     "output_type": "stream",
     "text": [
      "\n"
     ]
    }
   ],
   "source": [
    "print(pm)"
   ]
  },
  {
   "cell_type": "code",
   "execution_count": null,
   "id": "aaea453c",
   "metadata": {},
   "outputs": [],
   "source": []
  }
 ],
 "metadata": {
  "kernelspec": {
   "display_name": "Python 3 (ipykernel)",
   "language": "python",
   "name": "python3"
  },
  "language_info": {
   "codemirror_mode": {
    "name": "ipython",
    "version": 3
   },
   "file_extension": ".py",
   "mimetype": "text/x-python",
   "name": "python",
   "nbconvert_exporter": "python",
   "pygments_lexer": "ipython3",
   "version": "3.7.11"
  }
 },
 "nbformat": 4,
 "nbformat_minor": 5
}
